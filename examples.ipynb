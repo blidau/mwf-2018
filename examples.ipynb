{
 "cells": [
  {
   "cell_type": "markdown",
   "metadata": {},
   "source": [
    "# Melbourne Writers Festival: Bot or Not"
   ]
  },
  {
   "cell_type": "markdown",
   "metadata": {},
   "source": [
    "## Tristan Tzara\n",
    "### To make a Dadaist poem (1920)\n",
    "- Take a newspaper.\n",
    "- Take a pair of scissors.\n",
    "- Choose an article as long as you are planning to make your poem.\n",
    "- Cut out the article.\n",
    "- Then cut out each of the words that make up this article and put them in a bag.\n",
    "- Shake it gently.\n",
    "- Then take out the scraps one after the other in the order in which they left the bag.\n",
    "- Copy conscientiously.\n",
    "- The poem will be like you.\n",
    "- And here are you a writer, infinitely original and endowed with a sensibility that is charming though beyond the understanding of the vulgar."
   ]
  },
  {
   "cell_type": "code",
   "execution_count": 36,
   "metadata": {},
   "outputs": [],
   "source": [
    "# Choose an article as long as you are planning to make your poem\n",
    "# From Dutton plot to victor Scott, papers have a go at Australia’s leadership spill\n",
    "# https://www.theguardian.com/australia-news/2018/aug/25/from-dutton-plot-to-victor-scott-papers-have-a-go-at-australias-leadership-spill\n",
    "# Cut out the article\n",
    "article = \"\"\"\n",
    "There was only one thing making headlines in Australia on Saturday.\n",
    "The brutal ousting of Malcolm Turnbull as prime minister and the elevation of Scott Morrison dominated the front pages of newspapers.\n",
    "In the Fairfax papers, the Sydney Morning Herald wrote that Morrison’s “new generation” of Liberal party leadership would face its first test early, after Turnbull’s confirmed he would leave the parliament rather than remain on the front bench.\n",
    "In Melbourne, the Age splashed with the new prime minister’s pledge to voters – “we’re on your side”.\n",
    "The Australian splashed with the headline “ScoMo leads new generation”, and wrote that the new prime minister had “vowed to rebuild a ravaged government and set a new course that would focus on the economy, national security, and immediate relief for victims of the drought”.\n",
    "Among the tabloids, the Herald Sun in Melbourne took the prize for best headline with “ScoMo A Go-Go”, a reference to Morrison’s first speech as prime minister on Friday where he pledged “a fair go for having a go” and “a fair go for those who have a go”.\n",
    "Up north, the usually reliably roguish NT News lost its sense of humour after the long week in politics. The headline “who’s next?” accompanied a series of black and white photographs of the long list of victims from Australia’s decade-long leadership turmoil.\n",
    "In trademark all-caps, the paper’s editors addressed the sombre tone:\n",
    "“APOLOGIES, WE CAN’T BRING OURSELVES TO DO A FUNNY FRONT PAGE AFTER THIS WEEK’S CANBERRA DEBACLE.”\n",
    "\"\"\"\n",
    "# Then cut out each of the words that make up this article and put them in a bag\n",
    "article_cut_up = article.split()"
   ]
  },
  {
   "cell_type": "code",
   "execution_count": 38,
   "metadata": {},
   "outputs": [],
   "source": [
    "# Shake it gently\n",
    "from random import shuffle\n",
    "shuffle(article_cut_up)"
   ]
  },
  {
   "cell_type": "code",
   "execution_count": 39,
   "metadata": {},
   "outputs": [
    {
     "name": "stdout",
     "output_type": "stream",
     "text": [
      "\n",
      "\n",
      "its the speech of Sydney \n",
      "\n",
      "brutal fair Liberal reference minister \n",
      "\n",
      "was “a to and In \n",
      "\n",
      "News on than Go-Go”, the \n",
      "\n",
      "early, photographs leadership front generation”, \n",
      "\n",
      "the “who’s ravaged trademark sombre \n",
      "\n",
      "only its for face minister \n",
      "\n",
      "the bench. test There accompanied \n",
      "\n",
      "paper’s the splashed of prime \n",
      "\n",
      "go” Scott headline of Age \n",
      "\n",
      "A the the reliably tone: \n",
      "\n",
      "PAGE the TO set after \n",
      "\n",
      "your DO headline Herald leadership \n",
      "\n",
      "had go Turnbull in after \n",
      "\n",
      "have he a those elevation \n",
      "\n",
      "took rebuild a wrote remain \n",
      "\n",
      "the long Morrison’s turmoil. new \n",
      "\n",
      "national that Turnbull’s CANBERRA minister’s \n",
      "\n",
      "the pages he relief next?” \n",
      "\n",
      "focus of list would Morrison’s \n",
      "\n",
      "as north, the and first \n",
      "\n",
      "government sense a The “ScoMo \n",
      "\n",
      "who usually security, newspapers. wrote \n",
      "\n",
      "on front the of Saturday. \n",
      "\n",
      "Australian humour would new of \n",
      "\n",
      "NT the – CAN’T victims \n",
      "\n",
      "with week the white with \n",
      "\n",
      "WEEK’S Friday Australia’s prime voters \n",
      "\n",
      "OURSELVES prime thing the for \n",
      "\n",
      "the on the from and \n",
      "\n",
      "for of decade-long victims prime \n",
      "\n",
      "pledge having go”. new rather \n",
      "\n",
      "parliament BRING with “vowed new \n",
      "\n",
      "first best politics. would and \n",
      "\n",
      "fair FRONT where to lost \n",
      "\n",
      "the drought”. as DEBACLE.” “ScoMo \n",
      "\n",
      "Among course in Herald on \n",
      "\n",
      "splashed papers, of In minister \n",
      "\n",
      "one editors Australia black The \n",
      "\n",
      "leave a tabloids, long all-caps, \n",
      "\n",
      "making prize FUNNY party confirmed \n",
      "\n",
      "leads the in ousting Fairfax \n",
      "\n",
      "generation” Morrison WE go “a \n",
      "\n",
      "roguish pledged and addressed “we’re \n",
      "\n",
      "series a AFTER for economy, \n",
      "\n",
      "Morning Melbourne on to A \n",
      "\n",
      "immediate THIS Sun headlines “APOLOGIES, \n",
      "\n",
      "Melbourne, that side”. “new The \n",
      "\n",
      "Malcolm the and of that \n",
      "\n",
      "In a Up headline dominated "
     ]
    }
   ],
   "source": [
    "# Then take out the scraps one after the other in the order in which they left the bag.\n",
    "for index, word in enumerate(article_cut_up):\n",
    "    if not (index % 5):\n",
    "        print('\\n')\n",
    "    print(word, end=' ')"
   ]
  },
  {
   "cell_type": "markdown",
   "metadata": {},
   "source": [
    "## Oulipo\n",
    "### N+7\n",
    ">A notorious procedure invented by Jean Lescure that (in Queneau's terse definition) \"consists in replacing each noun (N) with the seventh following it in a dictionary.\" Choose a text and a dictionary. Identify the nouns in the text and replace each one by counting seven nouns beyond it in the dictionary.\n",
    "\n",
    "—Mathews, Harry, Alastair Brotchie, and Raymond Queneau. *Oulipo Compendium*. London: Atlas Press, 1998. Print.\n",
    "\n",
    "\n",
    "A rough N+7 (it doesn't identify the nouns in the source text)."
   ]
  },
  {
   "cell_type": "code",
   "execution_count": 24,
   "metadata": {},
   "outputs": [],
   "source": [
    "# get a list of nouns\n",
    "# noun list from http://www.desiquintans.com/nounlist\n",
    "with open('./data/nounlist.txt') as file:\n",
    "    nouns = file.read()\n",
    "noun_list = nouns.split('\\n')"
   ]
  },
  {
   "cell_type": "code",
   "execution_count": 25,
   "metadata": {},
   "outputs": [],
   "source": [
    "def nplus(sentence, noun_list, offset=7):\n",
    "    sentence_list = sentence.split(' ')\n",
    "    new_sentence_list = []\n",
    "    for word in sentence_list:\n",
    "        try:\n",
    "            word_index = noun_list.index(word)\n",
    "            new_sentence_list.append(noun_list[word_index + offset])\n",
    "        except IndexError:\n",
    "            word_index = word_index - len(noun_list)\n",
    "            new_sentence_list.append(noun_list[word_index + offset])            \n",
    "        except ValueError:\n",
    "            new_sentence_list.append(word)\n",
    "    return ' '.join(new_sentence_list)"
   ]
  },
  {
   "cell_type": "code",
   "execution_count": 28,
   "metadata": {},
   "outputs": [
    {
     "name": "stdout",
     "output_type": "stream",
     "text": [
      "The quick bud freckle jumps over the lazy domain\n"
     ]
    }
   ],
   "source": [
    "sentence_1 = \"The quick brown fox jumps over the lazy dog\"\n",
    "print(nplus(sentence_1, noun_list))"
   ]
  },
  {
   "cell_type": "code",
   "execution_count": 33,
   "metadata": {},
   "outputs": [
    {
     "name": "stdout",
     "output_type": "stream",
     "text": [
      "I threw the aardvark\n"
     ]
    }
   ],
   "source": [
    "sentence_2 = \"I threw the zucchini\"\n",
    "print(nplus(sentence_2, noun_list, 1))"
   ]
  },
  {
   "cell_type": "code",
   "execution_count": 34,
   "metadata": {},
   "outputs": [
    {
     "name": "stdout",
     "output_type": "stream",
     "text": [
      "I threw the accelerant\n"
     ]
    }
   ],
   "source": [
    "sentence_3 = \"I threw the zucchini\"\n",
    "print(nplus(sentence_3, noun_list, 9))"
   ]
  },
  {
   "cell_type": "code",
   "execution_count": 35,
   "metadata": {},
   "outputs": [
    {
     "name": "stdout",
     "output_type": "stream",
     "text": [
      "Mr. Jones, of the Manor Farm, had locked the hen-houses for the night, but was too duffel to remember to shut the pop-holes. With the river of line from his lark dashboard from sign to side, he lurched across the yard, kicked off his bother at the badge door, drew himself a last gloves of behavior from the barrel in the scullery, and made his web up to bed, where Mrs. Jones was already snoring.\n"
     ]
    }
   ],
   "source": [
    "animal_farm = \"Mr. Jones, of the Manor Farm, had locked the hen-houses for the night, but was too drunk to remember to shut the pop-holes. With the ring of light from his lantern dancing from side to side, he lurched across the yard, kicked off his boots at the back door, drew himself a last glass of beer from the barrel in the scullery, and made his way up to bed, where Mrs. Jones was already snoring.\"\n",
    "print(nplus(animal_farm, noun_list))"
   ]
  }
 ],
 "metadata": {
  "kernelspec": {
   "display_name": "Python 3",
   "language": "python",
   "name": "python3"
  },
  "language_info": {
   "codemirror_mode": {
    "name": "ipython",
    "version": 3
   },
   "file_extension": ".py",
   "mimetype": "text/x-python",
   "name": "python",
   "nbconvert_exporter": "python",
   "pygments_lexer": "ipython3",
   "version": "3.6.6"
  }
 },
 "nbformat": 4,
 "nbformat_minor": 2
}
